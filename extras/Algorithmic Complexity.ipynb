{
 "cells": [
  {
   "cell_type": "markdown",
   "metadata": {},
   "source": [
    "## Algorithmic Complexity\n",
    "\n",
    "+++\n",
    "Consider removing / moving to an example/extra notebook\n",
    "+++\n",
    "\n",
    "The complexity of algorithms (how long they take to run given a certain input size) is a much larger topic than the scope of this course, however, as it can impact our choice in cluster method it is worth introducing at a basic level.\n",
    "\n",
    "We can time code we have written and get some meaningful results, but that is going to heavily depend on how much data we give an algorithm. \n",
    "\n",
    "For example, if we sum up 10 numbers, it will take less time than summing up 100 numbers. \n",
    "\n",
    "Timing is however, not always a useful way of directly measuring performance as it does not take into account clearly the *scale* of the input.\n",
    "\n",
    "What we can do instead is work out the scale of the number of steps  taken given the input data into an algorithm. \n",
    "\n",
    "This is done by using variables to note the input size, for example: $n$.\n",
    "\n",
    "Below is an example of the number of steps taken for a variety of algorithms on different y-axis scales.\n",
    "\n",
    "To explore how this plot was created, check out `Time Complexity.ipynb` in the examples folder.\n",
    "\n",
    "<img src=\"../images/complexity.png\"  width=\"800\" height=\"400\" alt=\"Shows the change is step counts for different algorithm complexities on a linear and log scales\">\n",
    "\n",
    "We can see that the quadratic algorithm with take a *significant* number more steps than other algorithms.\n",
    "\n",
    "If an algorithm does not take more steps with larger data sizes this is called *constant* complexity. For example, performing an evaluation only once will not be impacted by the size of the input data, such as $1 + 3$. \n",
    "\n",
    "We denote this using *Big O* notation. We make an assumption that the scale of the number of steps tells us something useful about runtime.\n",
    "\n",
    "Constant complexity is given by $O(1)$.\n",
    "\n",
    "If the number of steps to run a algorithm increases proportionally with the size of the input $n$ then it has *linear* complexity $O(n)$. For example, if we wanted to loop over an array of values.\n",
    "\n",
    "Calculating the distance between points is going to be proportional to the number of points $n$, and how many dimensions the points have $m$. It has a complexity of $O(nm)$.\n",
    "\n",
    "If we have an array of numbers again, and calculate every number multiplied by each other number (first times first, first times second ... second times first, second times second etc) this will have a complexity of $O(n^2)$ as the number of steps will square with increasing input size.\n",
    "\n",
    "Calculating the distance between a point and all the others will take $O(nm)$ steps, if we then repeated this for every point the complexity would scale with number of points. \n",
    "\n",
    "This would give a complexity of $O(n^2m)$.\n",
    "\n",
    "<img src=\"../images/complexity_data.png\"  width=\"500\" height=\"400\" alt=\"Shows the number of steps for different algorithm complexities visually\">\n",
    "\n",
    "We have not gone greatly into detail about how algorithmic complexity works or is calculated, but it is worth exploring and keeping in mind when implementing algorithms and how they will scale with more data. We can use complexity to analyse both the time taken for an algorithm to run, and the amount of memory it uses. "
   ]
  },
  {
   "cell_type": "code",
   "execution_count": null,
   "metadata": {
    "collapsed": true
   },
   "outputs": [],
   "source": []
  }
 ],
 "metadata": {
  "kernelspec": {
   "display_name": "Python 3",
   "language": "python",
   "name": "python3"
  },
  "language_info": {
   "codemirror_mode": {
    "name": "ipython",
    "version": 3
   },
   "file_extension": ".py",
   "mimetype": "text/x-python",
   "name": "python",
   "nbconvert_exporter": "python",
   "pygments_lexer": "ipython3",
   "version": "3.6.1"
  },
  "toc": {
   "base_numbering": 1,
   "nav_menu": {},
   "number_sections": false,
   "sideBar": true,
   "skip_h1_title": false,
   "title_cell": "Table of Contents",
   "title_sidebar": "Contents",
   "toc_cell": false,
   "toc_position": {},
   "toc_section_display": true,
   "toc_window_display": true
  }
 },
 "nbformat": 4,
 "nbformat_minor": 2
}

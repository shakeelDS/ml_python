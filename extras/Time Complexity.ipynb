{
 "cells": [
  {
   "cell_type": "markdown",
   "metadata": {},
   "source": [
    "# Algorithmic Complexity\n",
    "\n",
    "Notebook to show how the number of steps changes with the complexity of an algorithm."
   ]
  },
  {
   "cell_type": "code",
   "execution_count": 1,
   "metadata": {
    "collapsed": true
   },
   "outputs": [],
   "source": [
    "import matplotlib.pyplot as plt\n",
    "import numpy as np\n",
    "import random\n",
    "import time "
   ]
  },
  {
   "cell_type": "code",
   "execution_count": 2,
   "metadata": {
    "collapsed": true
   },
   "outputs": [],
   "source": [
    "n_sizes = np.linspace(1, 15, 15, dtype=int)"
   ]
  },
  {
   "cell_type": "code",
   "execution_count": 3,
   "metadata": {
    "collapsed": true
   },
   "outputs": [],
   "source": [
    "def generate_input(input_size):\n",
    "    \"Function to create array of certain size\"\n",
    "    array = np.random.random(size=int(input_size))\n",
    "    return array"
   ]
  },
  {
   "cell_type": "code",
   "execution_count": 4,
   "metadata": {
    "collapsed": true
   },
   "outputs": [],
   "source": [
    "def constant(input_array):\n",
    "    \"Function with algorithm of constant complexity\"\n",
    "    step_count = 1\n",
    "    return step_count"
   ]
  },
  {
   "cell_type": "code",
   "execution_count": 5,
   "metadata": {
    "collapsed": true
   },
   "outputs": [],
   "source": [
    "def linear(input_array):\n",
    "    \"Function with algorithm of linear complexity\"\n",
    "    step_count = 1\n",
    "    for element in input_array:\n",
    "        step_count += 1\n",
    "    return step_count"
   ]
  },
  {
   "cell_type": "code",
   "execution_count": 6,
   "metadata": {
    "collapsed": true
   },
   "outputs": [],
   "source": [
    "def loglinear(input_array):\n",
    "    \"Function with algorithm of loglinear complexity\"\n",
    "    step_count = 1\n",
    "    iterations = len(input_array)\n",
    "    while iterations > 1:\n",
    "        iterations = iterations / 2\n",
    "        step_count += 1\n",
    "    return step_count"
   ]
  },
  {
   "cell_type": "code",
   "execution_count": 7,
   "metadata": {
    "collapsed": true
   },
   "outputs": [],
   "source": [
    "def quadratic(input_array):\n",
    "    \"Function with algorithm of quadratic complexity\"\n",
    "    step_count = 1\n",
    "    for first_value in input_array:\n",
    "        for second_value in input_array:\n",
    "            step_count += 1\n",
    "    return step_count"
   ]
  },
  {
   "cell_type": "code",
   "execution_count": 8,
   "metadata": {
    "collapsed": true
   },
   "outputs": [],
   "source": [
    "def gen_steps(complexity_func, input_sizes):\n",
    "    \"Given the function complexity generate time data for all sizes\"\n",
    "    inputs = list(map(generate_input, input_sizes))\n",
    "    list_of_times = []\n",
    "    for each_input in inputs:\n",
    "        steps = complexity_func(each_input)\n",
    "        list_of_times.append(steps)\n",
    "    assert len(list_of_times) == len(input_sizes)\n",
    "    return np.asarray(list_of_times)"
   ]
  },
  {
   "cell_type": "markdown",
   "metadata": {},
   "source": [
    "Generate step counts for each size of input."
   ]
  },
  {
   "cell_type": "code",
   "execution_count": 9,
   "metadata": {
    "collapsed": true
   },
   "outputs": [],
   "source": [
    "constant_steps = gen_steps(constant, n_sizes)\n",
    "linear_steps = gen_steps(linear, n_sizes)\n",
    "loglinear_steps = gen_steps(loglinear, n_sizes)\n",
    "quadratic_steps = gen_steps(quadratic, n_sizes)"
   ]
  },
  {
   "cell_type": "code",
   "execution_count": 10,
   "metadata": {},
   "outputs": [
    {
     "data": {
      "image/png": "[encoded data removed]",
      "text/plain": [
       "<Figure size 864x360 with 2 Axes>"
      ]
     },
     "metadata": {
      "needs_background": "light"
     },
     "output_type": "display_data"
    }
   ],
   "source": [
    "fig, (ax1, ax2)  = plt.subplots(1, 2, figsize=(12, 5))\n",
    "ax1.plot(n_sizes, constant_steps, label=\"constant\", c=\"b\")\n",
    "ax1.plot(n_sizes, linear_steps, label=\"linear\", c=\"g\");\n",
    "ax1.plot(n_sizes, loglinear_steps, label=\"loglinear\", c=\"pink\");\n",
    "ax1.plot(n_sizes, quadratic_steps, label=\"quadratic\", c=\"r\");\n",
    "ax1.set_xlabel(\"Input size $n$\")\n",
    "ax1.set_title(\"Steps on a Linear Scale\")\n",
    "ax1.set_ylabel(\"Steps Taken\")\n",
    "ax1.legend();\n",
    "\n",
    "ax2.plot(n_sizes, constant_steps, label=\"constant\", c=\"b\")\n",
    "ax2.plot(n_sizes, linear_steps, label=\"linear\", c=\"g\");\n",
    "ax2.plot(n_sizes, loglinear_steps, label=\"loglinear\", c=\"pink\");\n",
    "ax2.plot(n_sizes, quadratic_steps, label=\"quadratic\", c=\"r\");\n",
    "ax2.set_xlabel(\"Input size $n$\")\n",
    "ax2.set_ylabel(\"Steps Taken\")\n",
    "ax2.set_title(\"Steps on a Logarithmic Scale\")\n",
    "\n",
    "ax2.set_yscale(\"log\")\n",
    "ax2.legend();\n",
    "\n",
    "plt.savefig(\"../images/complexity.png\")"
   ]
  },
  {
   "cell_type": "code",
   "execution_count": null,
   "metadata": {
    "collapsed": true
   },
   "outputs": [],
   "source": []
  }
 ],
 "metadata": {
  "kernelspec": {
   "display_name": "Python 3",
   "language": "python",
   "name": "python3"
  },
  "language_info": {
   "codemirror_mode": {
    "name": "ipython",
    "version": 3
   },
   "file_extension": ".py",
   "mimetype": "text/x-python",
   "name": "python",
   "nbconvert_exporter": "python",
   "pygments_lexer": "ipython3",
   "version": "3.6.1"
  },
  "toc": {
   "base_numbering": 1,
   "nav_menu": {},
   "number_sections": false,
   "sideBar": true,
   "skip_h1_title": false,
   "title_cell": "Table of Contents",
   "title_sidebar": "Contents",
   "toc_cell": false,
   "toc_position": {},
   "toc_section_display": true,
   "toc_window_display": false
  }
 },
 "nbformat": 4,
 "nbformat_minor": 2
}

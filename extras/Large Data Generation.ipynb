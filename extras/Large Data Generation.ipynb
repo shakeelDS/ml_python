{
 "cells": [
  {
   "cell_type": "markdown",
   "metadata": {},
   "source": [
    "## Creating toy data with related attributes\n",
    "\n",
    "The goal of this notebook is to generate some data with many columns which are related in *some* way to a target value, so that the data can be decomposed"
   ]
  },
  {
   "cell_type": "code",
   "execution_count": 51,
   "metadata": {
    "collapsed": true
   },
   "outputs": [],
   "source": [
    "import numpy as np\n",
    "from sklearn.datasets import make_classification\n",
    "from numpy import savetxt"
   ]
  },
  {
   "cell_type": "markdown",
   "metadata": {},
   "source": [
    "I could generate some nice data with numpy with specified covariances and very specific distributions... or just use `sklearn` to generate some toy data!\n",
    "\n",
    "Using `sklearn` allows me to specify useful attributes of the data set for when we do reduce the data later on, such as how many features are actually important to the data."
   ]
  },
  {
   "cell_type": "code",
   "execution_count": 86,
   "metadata": {
    "collapsed": true
   },
   "outputs": [],
   "source": [
    "# Parameter set for generation\n",
    "n = 1000\n",
    "n_feat = 100\n",
    "n_informative = 10 \n",
    "n_redundant = 0  \n",
    "n_classes = 2 # binary problem\n",
    "flip_percent = 0.0 # change labels to reduce prediction ability\n",
    "class_balance = np.array([[0.4], [0.6]])"
   ]
  },
  {
   "cell_type": "code",
   "execution_count": 87,
   "metadata": {},
   "outputs": [
    {
     "data": {
      "text/plain": [
       "True"
      ]
     },
     "execution_count": 87,
     "metadata": {},
     "output_type": "execute_result"
    }
   ],
   "source": [
    "X, y = make_classification(n_samples=n,\n",
    "                            n_features=n_feat,\n",
    "                            n_informative=n_informative,\n",
    "                            n_redundant=n_redundant,\n",
    "                            n_classes=n_classes,\n",
    "                            flip_y=flip_percent,\n",
    "                            weights=class_balance,\n",
    "                            shuffle=True,\n",
    "                            random_state=123\n",
    "                        )\n",
    "\n",
    "# Is there the same number of rows?\n",
    "X.shape[0] == y.shape[0]"
   ]
  },
  {
   "cell_type": "code",
   "execution_count": 88,
   "metadata": {
    "collapsed": true
   },
   "outputs": [],
   "source": [
    "# Combine to one data structure\n",
    "all_data = np.c_[X, y]"
   ]
  },
  {
   "cell_type": "code",
   "execution_count": 89,
   "metadata": {},
   "outputs": [
    {
     "data": {
      "text/plain": [
       "array([1., 1., 1., 1., 1., 1., 0., 1., 0., 0.])"
      ]
     },
     "execution_count": 89,
     "metadata": {},
     "output_type": "execute_result"
    }
   ],
   "source": [
    "# Speak peak of target class\n",
    "all_data[:,-1][0:10]"
   ]
  },
  {
   "cell_type": "code",
   "execution_count": 90,
   "metadata": {
    "collapsed": true
   },
   "outputs": [],
   "source": [
    "#savetxt(\"../data/high_dimensions.csv\", all_data, delimiter=\",\")"
   ]
  },
  {
   "cell_type": "code",
   "execution_count": null,
   "metadata": {
    "collapsed": true
   },
   "outputs": [],
   "source": []
  }
 ],
 "metadata": {
  "kernelspec": {
   "display_name": "Python 3",
   "language": "python",
   "name": "python3"
  },
  "language_info": {
   "codemirror_mode": {
    "name": "ipython",
    "version": 3
   },
   "file_extension": ".py",
   "mimetype": "text/x-python",
   "name": "python",
   "nbconvert_exporter": "python",
   "pygments_lexer": "ipython3",
   "version": "3.6.1"
  },
  "toc": {
   "base_numbering": 1,
   "nav_menu": {},
   "number_sections": false,
   "sideBar": true,
   "skip_h1_title": false,
   "title_cell": "Table of Contents",
   "title_sidebar": "Contents",
   "toc_cell": false,
   "toc_position": {},
   "toc_section_display": true,
   "toc_window_display": false
  }
 },
 "nbformat": 4,
 "nbformat_minor": 2
}

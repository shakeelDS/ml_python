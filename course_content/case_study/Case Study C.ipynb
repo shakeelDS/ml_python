{
 "cells": [
  {
   "cell_type": "markdown",
   "metadata": {},
   "source": [
    "<center> <h1><font size=7> Case Study C</font> </h1> </center>\n",
    "\n",
    "# Predicting Student Performance \n",
    "\n",
    "In this case study you will aim to predict the *writing* test score of students taking an exam based on other factors. \n",
    "\n",
    "The features in the data set `/Data/student_performance.csv` are as follows:\n",
    "\n",
    "* gender\n",
    "* parent_education - the highest level of education achieved by the child's parent\n",
    "* lunch - whether or not the student receives free/reduced school lunches (True: receives free/reduced)\n",
    "* preparation_course - whether the student attended a test preparation course\n",
    "* math_score - the attained grade on their most recent math test\n",
    "\n",
    "Using a 80:20 train/test split your aim is to use a regression discussed in Chapter 3 in order to predict the *writing_score* target producing a `MSE < 32`.\n",
    "\n",
    "<div class=\"alert alert-block alert-info\">\n",
    "\n",
    "<ul>\n",
    "  <li>Attempt to complete the whole problem before looking at the model answer. \n",
    "        </li>\n",
    "  <li>Can you improve on the model answer's score? \n",
    "</li>\n",
    "  <li>Is regularisation necessary for this problem?\n",
    "</li>\n",
    "</ul>\n",
    "</div>\n",
    "\n"
   ]
  },
  {
   "cell_type": "code",
   "execution_count": null,
   "metadata": {
    "collapsed": true
   },
   "outputs": [],
   "source": [
    "# Write your code here\n"
   ]
  }
 ],
 "metadata": {
  "kernelspec": {
   "display_name": "Python 3",
   "language": "python",
   "name": "python3"
  },
  "language_info": {
   "codemirror_mode": {
    "name": "ipython",
    "version": 3
   },
   "file_extension": ".py",
   "mimetype": "text/x-python",
   "name": "python",
   "nbconvert_exporter": "python",
   "pygments_lexer": "ipython3",
   "version": "3.7.6"
  },
  "toc": {
   "base_numbering": 1,
   "nav_menu": {},
   "number_sections": false,
   "sideBar": true,
   "skip_h1_title": false,
   "title_cell": "Table of Contents",
   "title_sidebar": "Contents",
   "toc_cell": false,
   "toc_position": {},
   "toc_section_display": true,
   "toc_window_display": false
  }
 },
 "nbformat": 4,
 "nbformat_minor": 2
}

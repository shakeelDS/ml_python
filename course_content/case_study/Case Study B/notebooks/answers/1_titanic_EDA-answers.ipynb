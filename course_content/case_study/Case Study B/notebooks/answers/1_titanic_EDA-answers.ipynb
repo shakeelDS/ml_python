{
 "cells": [
  {
   "cell_type": "markdown",
   "metadata": {},
   "source": [
    "<img src=\"https://datasciencecampus.ons.gov.uk/wp-content/uploads/sites/10/2017/03/data-science-campus-logo-new.svg\"\n",
    "             alt=\"ONS Data Science Campus Logo\"\n",
    "             width = \"240\"\n",
    "             style=\"margin: 0px 60px\"\n",
    "             />"
   ]
  },
  {
   "cell_type": "markdown",
   "metadata": {},
   "source": [
    "# 1.0 Exploratory Data Analysis on Titanic Training Data\n",
    "\n",
    "## Introduction\n",
    "\n",
    "Purpose of script: exploratory data analysis of titanic test dataset, feature engineering\n",
    "source: [kaggle](https://www.kaggle.com/c/titanic/data)\n"
   ]
  },
  {
   "cell_type": "markdown",
   "metadata": {},
   "source": [
    "<div class=\"row\">\n",
    "    <div class=\"column\">\n",
    "        <img src=\"../../images/photo-1534685785745-60a2cea0ec34.jpeg\"\n",
    "             alt=\"Photo of explorer stood atop mountain from https://unsplash.com/photos/8oYPewvmhnY\"\n",
    "             align=\"center\" \n",
    "             width = \"500\"\n",
    "             />\n",
    "    </div>"
   ]
  },
  {
   "cell_type": "markdown",
   "metadata": {},
   "source": [
    "Note that the feature engineering used here differs to the guide provided by Kaggle. You are welcome to use the engineered features outlined in this script, from the guide and any ideas of your own. Please feel free to experiment and see if you can improve the performance of the model beyond that achieved here.\n",
    "\n",
    "[Guide to feature engineering titanic data](https://triangleinequality.wordpress.com/2013/09/08/basic-feature-engineering-with-the-titanic-data/)"
   ]
  },
  {
   "cell_type": "markdown",
   "metadata": {},
   "source": [
    "Kaggle have also published a guide to machine learning and submission of output with this data set. [kaggle guide](https://www.kaggle.com/alexisbcook/titanic-tutorial)"
   ]
  },
  {
   "cell_type": "code",
   "execution_count": null,
   "metadata": {},
   "outputs": [],
   "source": [
    "# import necessary libraries\n",
    "import pandas as pd\n",
    "from matplotlib import pyplot as plt\n",
    "import numpy as np"
   ]
  },
  {
   "cell_type": "code",
   "execution_count": null,
   "metadata": {},
   "outputs": [],
   "source": [
    "# import test data\n",
    "titanic_train = pd.read_csv('../../data/train.csv')\n",
    "titanic_test = pd.read_csv('../../data/test.csv')\n",
    "# cache unedited df for use in training later\n",
    "pd.to_pickle(titanic_train, '../../cache/titanic_train.pkl')\n",
    "pd.to_pickle(titanic_test, '../../cache/titanic_test.pkl')"
   ]
  },
  {
   "cell_type": "markdown",
   "metadata": {},
   "source": [
    "## Data Dictionary\n",
    "\n",
    "There are a number of variables within this dataset:\n",
    "* pclass = Passenger class of travel.\n",
    "* survived = 1 if the passenger survived the sinking, 0 if not.\n",
    "* name = Full name of the passenger, including title.\n",
    "* sex = Passenger gender.\n",
    "* age = Passenger age.\n",
    "* sibsp = Count of siblings or spouse also aboard.\n",
    "* Parch = Count of parents or children also aboard.\n",
    "* ticket = Ticket reference.\n",
    "* fare = Fare paid.\n",
    "* cabin = Cabin number.\n",
    "* embarked = Port of embarkation. (S = Southampton (UK); C = Cherbourg (France); Q = Queenstown (Cobh, Ireland))\n",
    "\n",
    "Note that the **titanic_test** data contains the features but no target, i.e. it does not include the **Survived** column. It is expected that once you have achieved the desired model performance, that you will then predict labels upon the test data and submit to Kaggle, who will provide you with a performance report."
   ]
  },
  {
   "cell_type": "code",
   "execution_count": null,
   "metadata": {},
   "outputs": [],
   "source": [
    "#adjust console presentation of output\n",
    "pd.set_option('display.max_rows', 500)\n",
    "pd.set_option('display.max_columns', 500)\n",
    "pd.set_option('display.width', 1000)"
   ]
  },
  {
   "cell_type": "markdown",
   "metadata": {},
   "source": [
    "\n",
    "\n",
    "## Summary Statistics"
   ]
  },
  {
   "cell_type": "code",
   "execution_count": null,
   "metadata": {},
   "outputs": [],
   "source": [
    "#dimensions of dataframe\n",
    "titanic_train.shape"
   ]
  },
  {
   "cell_type": "code",
   "execution_count": null,
   "metadata": {},
   "outputs": [],
   "source": [
    "#summary statistics of numeric columns\n",
    "titanic_train.describe()"
   ]
  },
  {
   "cell_type": "markdown",
   "metadata": {},
   "source": [
    "\n",
    "Some initial thoughts: \n",
    "\n",
    "• PassengerId, is it unique?  \n",
    "• Survived, can see from quartiles that majority did not survive. Would hope that the test DF would be based on the same distribution.  \n",
    "• Pclass, relatively fewer 1st class passengers. Majority are 3rd class.   \n",
    "• Age, floating point. Estimated ages include a .5 value. There is a degree of missingness, only 714 observations. What proportion is missing? What proportion is estimated?  \n",
    "• Sibsp, number of siblings or spouses aboard. Mistresses and fiances were ignored. Majority recorded having no siblings. Mean is higher than median, large outliers influenced? Max is 8 siblings.  \n",
    "• Parch, number of parents / children on board. Children travelling with nanny only Parch == 0. Large outlier influence on mean as in SibSp.  \n",
    "• Fare, minimum is zero. How many? Are these the crew? Do they have a unique pclass and age profile? Mean is double the median, high large outlier influence. Maximum is £512, extremely high for 1912 context.  \n"
   ]
  },
  {
   "cell_type": "code",
   "execution_count": null,
   "metadata": {},
   "outputs": [],
   "source": [
    "# Class imbalance in target suggested. Tally values. Do not drop NAs if present and return percentages of classes.\n",
    "titanic_train.Survived.value_counts(dropna=False, normalize=True)\n"
   ]
  },
  {
   "cell_type": "markdown",
   "metadata": {},
   "source": [
    "Just under 40% survived. So a class imbalance exists but I wouldn't say this is a candidate for random over sampling."
   ]
  },
  {
   "cell_type": "code",
   "execution_count": null,
   "metadata": {},
   "outputs": [],
   "source": [
    "# summary stats for object columns\n",
    "titanic_train.describe(include='object')\n"
   ]
  },
  {
   "cell_type": "markdown",
   "metadata": {},
   "source": [
    "Some observations:\n",
    "\n",
    "* Name column has no duplicates, I happen to know the full dataset has 2 non unique values. Either in test df or split. Likely of no consequence for this analysis.  \n",
    "* Sex appears to be mostly male. Look at proportion male:female. \n",
    "* ticket ref is object, column is a mix of character / numeric values. Interestingly, 230 values are non-unique - family tickets?\n",
    "* Cabin number has a high degree of missingness. Only 204 values. This is a shame as it would have been very interesting to analyse survival based on distance from the deck level. Perhaps isolate this group and investigate?\n",
    "* Embarked - port of embarkation has 3 values. Most common one is S = Southampton.  2 missing values here.\n"
   ]
  },
  {
   "cell_type": "markdown",
   "metadata": {},
   "source": [
    "Some questions have been identified to pursue further. My main concern so far would be in regards to the method of splitting the test dataset. No detail on how this has been done is provided and hopefully it is not not just based on the distribution of the survived column alone. "
   ]
  },
  {
   "cell_type": "markdown",
   "metadata": {},
   "source": [
    "\n",
    "\n",
    "## Pairwise Correlation"
   ]
  },
  {
   "cell_type": "code",
   "execution_count": null,
   "metadata": {},
   "outputs": [],
   "source": [
    "# explore the pairwise correlations within the data using pearson's correlation coefficient\n",
    "titanic_train.corr(method ='pearson') "
   ]
  },
  {
   "cell_type": "markdown",
   "metadata": {},
   "source": [
    "Some interesting trends observed, Only Parch & Fare indicate a positive correlation with Survival, neither of which would be indicated as strong (defined as corr of +/-0.7 or higher) all other numeric feautures indicate weak negative correlations against survived suggests a lot of noise in observed trends in features against survival. Weak though they are, the largest coefficients observed (+ or -) against survived are Pclass & Fare. Within the matrix as a whole, Pclass & Fare has the strongest observed coefficient of -0.549500 Not a strong correlation though (defined as +/-0.7 threshold). A moderate negative correlation. The next strongest correlation would be SibSp & Parch with a weak positive correlation of 0.414838.\n",
    "\n",
    "***\n",
    "\n",
    "## Feature Analysis\n",
    "\n",
    "### PassengerId"
   ]
  },
  {
   "cell_type": "code",
   "execution_count": null,
   "metadata": {},
   "outputs": [],
   "source": [
    "# is it unique?\n",
    "titanic_train.PassengerId.value_counts(dropna=False)\n",
    "# appears so."
   ]
  },
  {
   "cell_type": "markdown",
   "metadata": {},
   "source": [
    "***\n",
    "\n",
    "### Survived"
   ]
  },
  {
   "cell_type": "code",
   "execution_count": null,
   "metadata": {},
   "outputs": [],
   "source": [
    "########Survived###########\n",
    "# distribution?\n",
    "titanic_train.Survived.value_counts(normalize=True)\n",
    "# 62% didn't survive. Will check this against the test set. \n"
   ]
  },
  {
   "cell_type": "markdown",
   "metadata": {},
   "source": [
    "***\n",
    "### Pclass"
   ]
  },
  {
   "cell_type": "code",
   "execution_count": null,
   "metadata": {},
   "outputs": [],
   "source": [
    "# Plot a histogram with 3 bins to view the distribution of this feature.\n",
    "plt.hist(titanic_train.Pclass, bins=3)"
   ]
  },
  {
   "cell_type": "markdown",
   "metadata": {},
   "source": [
    "3rd class is by far the most common pclass. Interesting that there appears to be more 1st than 2nd class.\n"
   ]
  },
  {
   "cell_type": "code",
   "execution_count": null,
   "metadata": {},
   "outputs": [],
   "source": [
    "titanic_train.Pclass.value_counts(normalize=True) "
   ]
  },
  {
   "cell_type": "markdown",
   "metadata": {},
   "source": [
    "***\n",
    "### Age"
   ]
  },
  {
   "cell_type": "code",
   "execution_count": null,
   "metadata": {},
   "outputs": [],
   "source": [
    "########Age###########\n",
    "titanic_train.Age.value_counts(dropna=False, normalize=True)"
   ]
  },
  {
   "cell_type": "markdown",
   "metadata": {},
   "source": [
    "**NaN 0.198653.** Nearly 20% missing data. Parch / Sibsp won't offer the required directionality to help inform imputation here, as I understand it.\n",
    "\n",
    "what proportion are estimated *and* equal to 1 or older?"
   ]
  },
  {
   "cell_type": "code",
   "execution_count": null,
   "metadata": {},
   "outputs": [],
   "source": [
    "#filter data where age is greater than one and a whole number (ages not estimated). Divide by the totals rows.\n",
    "len(titanic_train.query('Age >= 1.0 & Age % 1 == 0.5')) / len(titanic_train)"
   ]
  },
  {
   "cell_type": "markdown",
   "metadata": {},
   "source": [
    "2 percent of data are estimated age. Combined with #NAs, this makes for a column with significant quality issues. This is something that could be useful to record in a flag."
   ]
  },
  {
   "cell_type": "code",
   "execution_count": null,
   "metadata": {},
   "outputs": [],
   "source": [
    "# Create a feature that records estimated ages: age_estimated\n",
    "titanic_train.insert(\n",
    "     #add this column after the Age column\n",
    "    (titanic_train.columns.get_loc(\"Age\") + 1),\n",
    "    # wherever age is estimated, assign True, otherwise False. \n",
    "    \"age_estimated\", np.where((titanic_train.Age >= 1.0) & (titanic_train.Age % 1 == 0.5), True, False)\n",
    ")"
   ]
  },
  {
   "cell_type": "markdown",
   "metadata": {},
   "source": [
    "We can also introduce age bins in order to explore differential survival rates. School age from [wikipedia](https://en.wikipedia.org/wiki/Raising_of_school_leaving_age_in_England_and_Wales#19th_century)"
   ]
  },
  {
   "cell_type": "code",
   "execution_count": null,
   "metadata": {},
   "outputs": [],
   "source": [
    "# define labels for the age categories\n",
    "cut_labels = ['pre_school', 'school', 'adolescent', 'age_of_majority', 'pensioners']\n",
    "# define boundary limits for the boundaries\n",
    "cut_bins = [0, 4.5, 13.5, 20.5, 69.5, 80]"
   ]
  },
  {
   "cell_type": "code",
   "execution_count": null,
   "metadata": {},
   "outputs": [],
   "source": [
    "# insert an age quantile column to investigate differential survival\n",
    "titanic_train.insert(\n",
    "     # Find the location of the Age column and insert the new column after it\n",
    "     (titanic_train.columns.get_loc(\"Age\") + 1),\n",
    "     # discretize the Age values using the bins and labels provided above.\n",
    "     \"age_discrete\", value=pd.cut(titanic_train.Age, bins=cut_bins, labels=cut_labels)\n",
    ")"
   ]
  },
  {
   "cell_type": "code",
   "execution_count": null,
   "metadata": {},
   "outputs": [],
   "source": [
    "# tidy up\n",
    "del cut_bins, cut_labels"
   ]
  },
  {
   "cell_type": "markdown",
   "metadata": {},
   "source": [
    "\n",
    "\n",
    "Investigate differential survival among the age categories, interesting to look at pre school survival rates. Create a dataframe containing only preschool-age passengers."
   ]
  },
  {
   "cell_type": "code",
   "execution_count": null,
   "metadata": {},
   "outputs": [],
   "source": [
    "preschool = titanic_train.query('age_discrete == \"pre_school\"')"
   ]
  },
  {
   "cell_type": "code",
   "execution_count": null,
   "metadata": {},
   "outputs": [],
   "source": [
    "# eda on the preschool dataset. Print a correlation matrix.\n",
    "preschool.corr(method ='pearson')\n"
   ]
  },
  {
   "cell_type": "markdown",
   "metadata": {},
   "source": [
    "Interesting that a strong negative correlation is returned for SibSp x Survived -0.714502 . Could this indicate that passengers of smaller families (with preschoolers) were more likely to survive than individuals with larger families?"
   ]
  },
  {
   "cell_type": "code",
   "execution_count": null,
   "metadata": {},
   "outputs": [],
   "source": [
    "preschool.Survived.value_counts(normalize=True)"
   ]
  },
  {
   "cell_type": "code",
   "execution_count": null,
   "metadata": {},
   "outputs": [],
   "source": [
    "# How many observations are within this dataframe?\n",
    "len(preschool)\n"
   ]
  },
  {
   "cell_type": "markdown",
   "metadata": {},
   "source": [
    "Small number of observations, high correlation observed could be a relic of the data. As this correlation was not observed within total df, the other age categories must be responsible for the overall trend. Perhaps school age? Create the school age df in the same way.\n",
    "\n",
    "***"
   ]
  },
  {
   "cell_type": "code",
   "execution_count": null,
   "metadata": {},
   "outputs": [],
   "source": [
    "# filter titanic_train for rows that are categorized as \"school\" for the discretized age column.\n",
    "schoolchildren = titanic_train.query('age_discrete == \"school\"')\n",
    "# Print a pariwise correlation matrix\n",
    "schoolchildren.corr(method='pearson')\n"
   ]
  },
  {
   "cell_type": "code",
   "execution_count": null,
   "metadata": {},
   "outputs": [],
   "source": [
    "len(schoolchildren)"
   ]
  },
  {
   "cell_type": "markdown",
   "metadata": {},
   "source": [
    "Again, a small subset. Moderate -ve correlation between SibSp & survived, -0.668927.\n",
    "\n",
    "There appears to be a more pronounced trend in pclass x survived here -0.526789 than in preschool -0.325941. Both small subsets however."
   ]
  },
  {
   "cell_type": "code",
   "execution_count": null,
   "metadata": {},
   "outputs": [],
   "source": [
    "schoolchildren.Survived.value_counts(normalize=True)"
   ]
  },
  {
   "cell_type": "markdown",
   "metadata": {},
   "source": [
    "Survival in this age group appears to have declined in comparison to preschool. \n",
    "\n",
    "***\n",
    "\n",
    "What about adolescent passengers?"
   ]
  },
  {
   "cell_type": "code",
   "execution_count": null,
   "metadata": {},
   "outputs": [],
   "source": [
    "adolescents = titanic_train.query('age_discrete == \"adolescent\"')\n",
    "adolescents.corr(method='pearson')\n",
    "# negligible correlation with SibSp x survived in this subset. -0.054019 \n",
    "# moderate correlation between PClass x survived -0.439298, appears to be obeying law of central limit theorem/"
   ]
  },
  {
   "cell_type": "code",
   "execution_count": null,
   "metadata": {},
   "outputs": [],
   "source": [
    "len(adolescents)"
   ]
  },
  {
   "cell_type": "markdown",
   "metadata": {},
   "source": [
    "More observations in this age group. Could be that a moderate trend detected between PClass & survival could hold more weight."
   ]
  },
  {
   "cell_type": "code",
   "execution_count": null,
   "metadata": {},
   "outputs": [],
   "source": [
    "# adolescent survival by gender - plot a bar chart\n",
    "adolescents.groupby('Sex').Survived.value_counts().plot.bar()\n"
   ]
  },
  {
   "cell_type": "code",
   "execution_count": null,
   "metadata": {},
   "outputs": [],
   "source": [
    "# Generate normalised counts of the values diplayed in the above bar chart.\n",
    "adolescents.groupby('Sex').Survived.value_counts(normalize=True)"
   ]
  },
  {
   "cell_type": "markdown",
   "metadata": {},
   "source": [
    "Clear distinction in survival rate by sex in adolescent-aged group."
   ]
  },
  {
   "cell_type": "code",
   "execution_count": null,
   "metadata": {},
   "outputs": [],
   "source": [
    "# adolescent survival by class?\n",
    "adolescents.groupby('Pclass').Survived.value_counts().plot.bar()"
   ]
  },
  {
   "cell_type": "markdown",
   "metadata": {},
   "source": [
    "Visually, the survival differential is in favour of the 1st class adolescents\n"
   ]
  },
  {
   "cell_type": "code",
   "execution_count": null,
   "metadata": {},
   "outputs": [],
   "source": [
    "adolescents.groupby('Pclass').Survived.value_counts(normalize=True)"
   ]
  },
  {
   "cell_type": "markdown",
   "metadata": {},
   "source": [
    "\n",
    "Could be an interesting candidate for chi2 test. Difference between the classes appears worhwhile investigating."
   ]
  },
  {
   "cell_type": "code",
   "execution_count": null,
   "metadata": {},
   "outputs": [],
   "source": [
    "# create a crosstab to analyse\n",
    "tab = pd.crosstab(adolescents.Pclass, adolescents.Survived)\n",
    "print(tab)"
   ]
  },
  {
   "cell_type": "markdown",
   "metadata": {},
   "source": [
    "Unable to run chi2 as there is an observed frequency in the contingency table of below 5. Assumption would be violated."
   ]
  },
  {
   "cell_type": "code",
   "execution_count": null,
   "metadata": {},
   "outputs": [],
   "source": [
    "# tidy up\n",
    "del adolescents, preschool, schoolchildren, tab"
   ]
  },
  {
   "cell_type": "markdown",
   "metadata": {},
   "source": [
    "***\n",
    "\n",
    "### Sibsp"
   ]
  },
  {
   "cell_type": "code",
   "execution_count": null,
   "metadata": {},
   "outputs": [],
   "source": [
    "# reset the plot canvas\n",
    "plt.clf()\n",
    "# distribution? plot a histogram of the SibSp feature\n",
    "plt.hist(titanic_train.SibSp)\n"
   ]
  },
  {
   "cell_type": "markdown",
   "metadata": {},
   "source": [
    "Small number of observations at 8 sibsp skewing the mean over the median. Frequency for these?"
   ]
  },
  {
   "cell_type": "code",
   "execution_count": null,
   "metadata": {},
   "outputs": [],
   "source": [
    "titanic_train.SibSp.value_counts(dropna=False)"
   ]
  },
  {
   "cell_type": "markdown",
   "metadata": {},
   "source": [
    "Interesting that ```sibsp == 8``` returns a count of 7. The missing 1 must be in the test df?"
   ]
  },
  {
   "cell_type": "code",
   "execution_count": null,
   "metadata": {},
   "outputs": [],
   "source": [
    "# reset the plot canvas\n",
    "plt.clf()\n",
    "# plot a chart that allows visual identification of outliers in the SibSp feature\n",
    "plt.boxplot(titanic_train.SibSp)\n"
   ]
  },
  {
   "cell_type": "markdown",
   "metadata": {},
   "source": [
    "Chart is flagging sibsp values > 2 as outliers. This coincides with 1.5 * inter quartile range (outlier threshold dthen defined as > 2.5). Would see no valid reason to omit these outliers, but to be aware that this is a column with significant left skew. \n",
    "\n",
    "***\n",
    "\n",
    "### Parch"
   ]
  },
  {
   "cell_type": "code",
   "execution_count": null,
   "metadata": {},
   "outputs": [],
   "source": [
    "# reset the plot canvas\n",
    "plt.clf()\n",
    "# distribution?\n",
    "plt.hist(titanic_train.Parch)"
   ]
  },
  {
   "cell_type": "markdown",
   "metadata": {},
   "source": [
    "Some large values with low frequencies here.\n"
   ]
  },
  {
   "cell_type": "code",
   "execution_count": null,
   "metadata": {},
   "outputs": [],
   "source": [
    "titanic_train.Parch.value_counts(dropna=False)"
   ]
  },
  {
   "cell_type": "markdown",
   "metadata": {},
   "source": [
    "This result indicates an imbalance in train test split. 1 observation for Parch for a value of 6. The remaining 5 must be in the test group. These are all likely to qualify as outliers. Implications for logistic regression model training vs test. Possibly a candidate for outlier removal, but see no legitimate reason for doing so apart from improving model accuracy for parch rows < 6"
   ]
  },
  {
   "cell_type": "code",
   "execution_count": null,
   "metadata": {},
   "outputs": [],
   "source": [
    "# reset the plot canvas\n",
    "plt.clf()\n",
    "# outlier analysis\n",
    "plt.boxplot(titanic_train.Parch)"
   ]
  },
  {
   "cell_type": "markdown",
   "metadata": {},
   "source": [
    "Boxplot flags everything above a 0 as outlier. Coincides with 1.5 * IQR. Families were in the minority and most of the families on board were small ones.\n",
    "\n",
    "***\n",
    "\n",
    "### Fare"
   ]
  },
  {
   "cell_type": "code",
   "execution_count": null,
   "metadata": {},
   "outputs": [],
   "source": [
    "# reset the plot canvas\n",
    "plt.clf()\n",
    "#distribution\n",
    "plt.hist(titanic_train.Fare, bins=20)"
   ]
  },
  {
   "cell_type": "markdown",
   "metadata": {},
   "source": [
    "Previously established minimum fare is 0. Idea being that these were crew? From this histogram it is clear a significant prop paid little or nothing."
   ]
  },
  {
   "cell_type": "code",
   "execution_count": null,
   "metadata": {},
   "outputs": [],
   "source": [
    "titanic_train.Fare.value_counts(dropna=False)"
   ]
  },
  {
   "cell_type": "markdown",
   "metadata": {},
   "source": [
    "Only 15 passengers paid 0 pounds. So this wouldn't represent a total crew. Let's investigate the zero fares further.\n"
   ]
  },
  {
   "cell_type": "code",
   "execution_count": null,
   "metadata": {},
   "outputs": [],
   "source": [
    "# Create a dataframe 'zero_fares' by slicing titanic_train to wherever the passenger paid zero for Fare\n",
    "zero_fares = titanic_train.query('Fare == 0')\n",
    "# print summary statistics of all numeric columns for this dataframe\n",
    "zero_fares.describe()"
   ]
  },
  {
   "cell_type": "code",
   "execution_count": null,
   "metadata": {},
   "outputs": [],
   "source": [
    "zero_fares.describe(include='object')"
   ]
  },
  {
   "cell_type": "markdown",
   "metadata": {},
   "source": [
    "Inspection of the df, all male, all embarked at Southampton, 1 survived, a mixture of classes. 4 have 'LINE' as ticket reference.  All have 0 family on board. All but 3 have no cabin number recorded. I wonder how often 'LINE' occurs in the total training set?\n"
   ]
  },
  {
   "cell_type": "code",
   "execution_count": null,
   "metadata": {},
   "outputs": [],
   "source": [
    "titanic_train.query(\"Ticket == 'LINE'\")  "
   ]
  },
  {
   "cell_type": "markdown",
   "metadata": {},
   "source": [
    "No, this is not more widely recorded than within this group. There's not a great deal more to be said about this group without additional info. "
   ]
  },
  {
   "cell_type": "code",
   "execution_count": null,
   "metadata": {},
   "outputs": [],
   "source": [
    "#clean up\n",
    "del zero_fares"
   ]
  },
  {
   "cell_type": "markdown",
   "metadata": {},
   "source": [
    "***\n",
    "\n",
    "### Sex"
   ]
  },
  {
   "cell_type": "code",
   "execution_count": null,
   "metadata": {},
   "outputs": [],
   "source": [
    "# What is the gender ratio of the dataset?\n",
    "titanic_train.Sex.value_counts(normalize=True)\n"
   ]
  },
  {
   "cell_type": "markdown",
   "metadata": {},
   "source": [
    "Overall 65% male. Did 'women and children go first' make a difference here? "
   ]
  },
  {
   "cell_type": "code",
   "execution_count": null,
   "metadata": {},
   "outputs": [],
   "source": [
    "titanic_train.groupby(titanic_train.Sex).Survived.value_counts(normalize=True)"
   ]
  },
  {
   "cell_type": "markdown",
   "metadata": {},
   "source": [
    "Although the gender imbalance is evident, ~3/4 females survived, whereas ~1/5 males survived. "
   ]
  },
  {
   "cell_type": "code",
   "execution_count": null,
   "metadata": {},
   "outputs": [],
   "source": [
    "titanic_train.groupby(titanic_train.Sex).Survived.value_counts().plot.bar()"
   ]
  },
  {
   "cell_type": "markdown",
   "metadata": {},
   "source": [
    "Gender would be an important feature for supervised learning. \n",
    "\n",
    "***\n",
    "\n",
    "### Ticket"
   ]
  },
  {
   "cell_type": "code",
   "execution_count": null,
   "metadata": {},
   "outputs": [],
   "source": [
    "# add a duplicated tickets column\n",
    "titanic_train.insert(\n",
    "    # add column following the Ticket column\n",
    "    (titanic_train.columns.get_loc(\"Ticket\") + 1),\n",
    "    # tally ticket frequencies (note that this may not be accurate due to hold out set)\n",
    "    \"duplicated_tickets\", titanic_train.groupby('Ticket')['Ticket'].transform('count')\n",
    ")"
   ]
  },
  {
   "cell_type": "code",
   "execution_count": null,
   "metadata": {},
   "outputs": [],
   "source": [
    "# isolate all rows that show duplicated tickets\n",
    "duplicated_tickets = titanic_train.query(\"duplicated_tickets > 1\")\n",
    "duplicated_tickets.Ticket.value_counts()\n"
   ]
  },
  {
   "cell_type": "code",
   "execution_count": null,
   "metadata": {},
   "outputs": [],
   "source": [
    "duplicated_tickets.describe()"
   ]
  },
  {
   "cell_type": "markdown",
   "metadata": {},
   "source": [
    "Interesting here that there are 0s for SibSp & also for Parch separately. Are there any for both columns?\n"
   ]
  },
  {
   "cell_type": "code",
   "execution_count": null,
   "metadata": {},
   "outputs": [],
   "source": [
    "# Are there any rows in duplicated_tickets that show zero values for both SibSp & Parch?\n",
    "len(duplicated_tickets.query('SibSp == 0 & Parch == 0'))"
   ]
  },
  {
   "cell_type": "markdown",
   "metadata": {},
   "source": [
    "Yes, 75 of the duplicated tickets were 0 for both family indicators. Metadata indicates that these could be mistresses, fiancees and nannies. 20% of passengers with duplicated tickets are 0 for both family indicators"
   ]
  },
  {
   "cell_type": "code",
   "execution_count": null,
   "metadata": {},
   "outputs": [],
   "source": [
    "duplicated_tickets.Sex.value_counts(normalize=True)"
   ]
  },
  {
   "cell_type": "markdown",
   "metadata": {},
   "source": [
    "Interesting that in this subset the gender balance is slightly in favour of females. This contrasts the training df as a whole.\n"
   ]
  },
  {
   "cell_type": "code",
   "execution_count": null,
   "metadata": {},
   "outputs": [],
   "source": [
    "duplicated_tickets.groupby('Sex').Survived.value_counts(normalize=True)"
   ]
  },
  {
   "cell_type": "markdown",
   "metadata": {},
   "source": [
    "Closer to 20% males survived here and female survival rate looks the same as larger group. No apparent radical departure. No further question springs to mind on this with the data to hand. "
   ]
  },
  {
   "cell_type": "code",
   "execution_count": null,
   "metadata": {},
   "outputs": [],
   "source": [
    "# Clean up \n",
    "del duplicated_tickets"
   ]
  },
  {
   "cell_type": "markdown",
   "metadata": {},
   "source": [
    "***\n",
    "\n",
    "### Cabin number"
   ]
  },
  {
   "cell_type": "code",
   "execution_count": null,
   "metadata": {},
   "outputs": [],
   "source": [
    "# value counts with NA\n",
    "titanic_train.Cabin.value_counts(dropna=False)"
   ]
  },
  {
   "cell_type": "markdown",
   "metadata": {},
   "source": [
    "```NaN                687\n",
    "G6                   4\n",
    "B96 B98              4\n",
    "C23 C25 C27          4```  \n",
    "Interesting that there are a number of observations with multiple rooms recorded. Possible reasons - families, group bookings and so on. Isolate and observe the SibSp & Parch values for that group.\n"
   ]
  },
  {
   "cell_type": "code",
   "execution_count": null,
   "metadata": {},
   "outputs": [],
   "source": [
    "# insert a cabin string length column\n",
    "titanic_train.insert(\n",
    "    # insert column after the Cabin column\n",
    "    (titanic_train.columns.get_loc(\"Cabin\") + 1), \"Cabin_str_len\", titanic_train.Cabin.str.len(), True\n",
    ") \n",
    "# filter on that column string lengths greater than 5\n",
    "multi_cabins = titanic_train.query(\"Cabin_str_len > 5\")\n",
    "# observe some summary stats\n",
    "multi_cabins.describe()"
   ]
  },
  {
   "cell_type": "markdown",
   "metadata": {},
   "source": [
    "All of the **multi_cabin** passengers are first class. SibSp and Parch both have minimum of 0.\n"
   ]
  },
  {
   "cell_type": "code",
   "execution_count": null,
   "metadata": {},
   "outputs": [],
   "source": [
    "multi_cabins.SibSp.value_counts(dropna=False)"
   ]
  },
  {
   "cell_type": "markdown",
   "metadata": {},
   "source": [
    "\n",
    "There are 6 rows with 0 siblings / spouses on board\n"
   ]
  },
  {
   "cell_type": "code",
   "execution_count": null,
   "metadata": {},
   "outputs": [],
   "source": [
    "multi_cabins.Parch.value_counts(dropna=False)"
   ]
  },
  {
   "cell_type": "markdown",
   "metadata": {},
   "source": [
    "\n",
    "There are 3 rows with 0 parents / children on board. Are there multi_cabin passengers with 0 for both Parch & SibSp?\n"
   ]
  },
  {
   "cell_type": "code",
   "execution_count": null,
   "metadata": {},
   "outputs": [],
   "source": [
    "multi_cabins.query(\"SibSp == 0 and Parch == 0\")"
   ]
  },
  {
   "cell_type": "markdown",
   "metadata": {},
   "source": [
    "\"Guggenheim boarded the Titanic at Cherbourg with his valet Victor Giglio and his \"mistress\" Mrs \n",
    "Aubart. Guggenheim and Giglio's ticket was 17593 and cost £79 4s1. Mr Guggenheim's chauffeur René \n",
    "Pernot travelled in second class.\n",
    "Despite Etches best efforts Guggenheim soon returned to his room (B-82) and changed into his finest \n",
    "evening wear, his valet, Mr Giglio did likewise. He was later heard to remark 'We've dressed up in \n",
    "our best and are prepared to go down like gentlemen.\"  \n",
    "https://www.encyclopedia-titanica.org/titanic-victim/benjamin-guggenheim.html  \n",
    "\n",
    "There doesn't appear to be any supporting info as to why Frans Carlsson would have had multiple cabins associated, unlike Guggenheim who had an entourage. \n",
    "10% of passengers with multiple rooms are 0 for both family indicators.\n",
    "I wonder how widespread the 'down with the ship' ethos was among the male passengers. Could look at\n",
    "survival rates among males by age categories or classes?"
   ]
  },
  {
   "cell_type": "code",
   "execution_count": null,
   "metadata": {},
   "outputs": [],
   "source": [
    "#tidy up\n",
    "del multi_cabins"
   ]
  },
  {
   "cell_type": "markdown",
   "metadata": {},
   "source": [
    "***\n",
    "\n",
    "### Embarked"
   ]
  },
  {
   "cell_type": "code",
   "execution_count": null,
   "metadata": {},
   "outputs": [],
   "source": [
    "# distribution?\n",
    "titanic_train.Embarked.value_counts(dropna=False, normalize=True)"
   ]
  },
  {
   "cell_type": "markdown",
   "metadata": {},
   "source": [
    "Interesting that the vast majority of passengers were boarded at Southampton. Let's look at the NaNs."
   ]
  },
  {
   "cell_type": "code",
   "execution_count": null,
   "metadata": {},
   "outputs": [],
   "source": [
    "titanic_train[titanic_train.Embarked.isna()]"
   ]
  },
  {
   "cell_type": "markdown",
   "metadata": {},
   "source": [
    "\n",
    "Interesting, they both had no family on board but shared a ticket and cabin. Mrs Stone boarded the Titanic in Southampton on 10 April 1912 and was travelling in first class with her maid Amelie Icard. She occupied cabin B-28.\n",
    "[Encyclopedia Titanica](https://www.encyclopedia-titanica.org/titanic-survivor/martha-evelyn-stone.html)\n",
    "\n",
    "This could be evidence to amend the embarked column for Martha. Several sites online indicate this also. Safe to assume Amelie boarded at same port? The same website indicates Amelie boarded at S too.\n",
    "[Encyclopedia Titanica](https://www.encyclopedia-titanica.org/titanic-survivor/amelia-icard.html)"
   ]
  },
  {
   "cell_type": "code",
   "execution_count": null,
   "metadata": {},
   "outputs": [],
   "source": [
    "# replace the NaNs in this column with 'S'\n",
    "titanic_train.Embarked = titanic_train.Embarked.fillna('S')"
   ]
  },
  {
   "cell_type": "markdown",
   "metadata": {},
   "source": [
    "***\n",
    "\n",
    "### Name"
   ]
  },
  {
   "cell_type": "markdown",
   "metadata": {},
   "source": [
    "This column is used extensively with various simple pattern-matching techniques within the [Guide to feature engineering titanic data](https://triangleinequality.wordpress.com/2013/09/08/basic-feature-engineering-with-the-titanic-data/). \n",
    "\n",
    "By sorting on names it is possible to see patterns observed in the tickets that may indicate families. It could be possible to group family units together under group size. Insert a column for families with children."
   ]
  },
  {
   "cell_type": "code",
   "execution_count": null,
   "metadata": {
    "tags": [
     "raises-exception"
    ]
   },
   "outputs": [],
   "source": [
    "titanic_train.insert(\n",
    "    # insert new column following duplicated_tickets\n",
    "    (titanic_train.columns.get_loc('duplicated_tickets') + 1),\n",
    "    # tickets are non-unique and have more than 0 Parent / children on board.\n",
    "    # note the flaw in duplicated tickets - the tickets may be duplicated, but within the test set.\n",
    "    'families_w_children', (titanic_train.duplicated_tickets > 1) & (titanic_train.Parch > 0)\n",
    ")\n"
   ]
  },
  {
   "cell_type": "code",
   "execution_count": null,
   "metadata": {},
   "outputs": [],
   "source": [
    "\n",
    "# insert a column for families with no children on board, as above with SibSp greater than 0 but 0 for Parch\n",
    "titanic_train.insert(\n",
    "     (titanic_train.columns.get_loc('families_w_children') + 1),\n",
    "     'families_no_children',\n",
    "     (titanic_train.duplicated_tickets > 1) & (titanic_train.SibSp > 0) & (titanic_train.Parch == 0)\n",
    ")\n",
    "# observe pairwise trends \n",
    "titanic_train.corr(method='pearson')\n"
   ]
  },
  {
   "cell_type": "markdown",
   "metadata": {},
   "source": [
    "\n",
    "The engineered columns show trends with family indicators as expected, no sig trend with survival."
   ]
  },
  {
   "cell_type": "code",
   "execution_count": null,
   "metadata": {},
   "outputs": [],
   "source": [
    "# cache the engineered features to binary file for future use\n",
    "pd.to_pickle(titanic_train, '../../cache/titanic_engineered.pkl')"
   ]
  },
  {
   "cell_type": "markdown",
   "metadata": {},
   "source": [
    "***\n",
    "\n",
    "## Training Dataset Distributions"
   ]
  },
  {
   "cell_type": "code",
   "execution_count": null,
   "metadata": {},
   "outputs": [],
   "source": [
    "# What proportion of the total available data does the Kaggle test dataframe represent?\n",
    "\n",
    "len(titanic_test) / len(titanic_train)"
   ]
  },
  {
   "cell_type": "markdown",
   "metadata": {},
   "source": [
    "Nearly 50% training data. Higher than expected. \n",
    "\n",
    "***\n",
    "\n",
    "### Pclass"
   ]
  },
  {
   "cell_type": "code",
   "execution_count": null,
   "metadata": {},
   "outputs": [],
   "source": [
    "# compare Pclass\n",
    "print(titanic_train.Pclass.value_counts(normalize=True))\n",
    "titanic_test.Pclass.value_counts(normalize=True)"
   ]
  },
  {
   "cell_type": "markdown",
   "metadata": {},
   "source": [
    "Slightly lower proportion 3rd class in test df.\n",
    "\n",
    "***\n",
    "\n",
    "### Sex"
   ]
  },
  {
   "cell_type": "code",
   "execution_count": null,
   "metadata": {},
   "outputs": [],
   "source": [
    "# compare Sex ratios\n",
    "print(titanic_train.Sex.value_counts(normalize=True))\n",
    "titanic_test.Sex.value_counts(normalize=True)"
   ]
  },
  {
   "cell_type": "markdown",
   "metadata": {},
   "source": [
    "1.1 % towards female in test df.\n",
    "\n",
    "***\n",
    "\n",
    "### Age\n"
   ]
  },
  {
   "cell_type": "code",
   "execution_count": null,
   "metadata": {},
   "outputs": [],
   "source": [
    "# reset the plot canvas\n",
    "plt.clf()\n",
    "# Compare distributions of Age. Overlay histograms and set the opacity to 50%\n",
    "plt.hist(titanic_train.Age, alpha=0.5, label='train')\n",
    "plt.hist(titanic_test.Age, alpha=0.5, label='test')\n",
    "# Place the legend in the best position\n",
    "plt.legend(loc='upper right')\n"
   ]
  },
  {
   "cell_type": "markdown",
   "metadata": {},
   "source": [
    "Distribution appears to be similar. Perhaps reverse proportions in ~20yrs vs ~30yrs. But overall likely to be of same distribution.\n"
   ]
  },
  {
   "cell_type": "code",
   "execution_count": null,
   "metadata": {},
   "outputs": [],
   "source": [
    "print(titanic_train.Age.describe())\n",
    "titanic_test.Age.describe()\n"
   ]
  },
  {
   "cell_type": "markdown",
   "metadata": {},
   "source": [
    "Central tendency and distribution summary stats all very similar.\n",
    "\n",
    "***\n",
    "\n",
    "### SibSp"
   ]
  },
  {
   "cell_type": "code",
   "execution_count": null,
   "metadata": {},
   "outputs": [],
   "source": [
    "# compare sibsp dists\n",
    "# reset the plot canvas\n",
    "plt.clf()\n",
    "# Compare distributions of Sibsp\n",
    "plt.hist(titanic_train.SibSp, alpha=0.5, label='train')\n",
    "plt.hist(titanic_test.SibSp, alpha=0.5, label='test')\n",
    "plt.legend(loc='upper right')"
   ]
  },
  {
   "cell_type": "markdown",
   "metadata": {},
   "source": [
    "Visually analagous"
   ]
  },
  {
   "cell_type": "code",
   "execution_count": null,
   "metadata": {},
   "outputs": [],
   "source": [
    "print(titanic_train.SibSp.describe())\n",
    "titanic_test.SibSp.describe()"
   ]
  },
  {
   "cell_type": "markdown",
   "metadata": {},
   "source": [
    "Quartiles are identical, similar means but std smaller in test dataset.\n",
    "\n",
    "***\n",
    "\n",
    "### Parch"
   ]
  },
  {
   "cell_type": "code",
   "execution_count": null,
   "metadata": {},
   "outputs": [],
   "source": [
    "# reset the plot canvas\n",
    "plt.clf()\n",
    "# Compare distributions of Parch\n",
    "plt.hist(titanic_train.Parch, alpha=0.5, label='train')\n",
    "plt.hist(titanic_test.Parch, alpha=0.5, label='test')\n",
    "plt.legend(loc='upper right')"
   ]
  },
  {
   "cell_type": "markdown",
   "metadata": {},
   "source": [
    "Perhaps the test set here shows consistent skew to the right of training set, though analagous in proportion."
   ]
  },
  {
   "cell_type": "code",
   "execution_count": null,
   "metadata": {},
   "outputs": [],
   "source": [
    "print(titanic_train.Parch.describe())\n",
    "titanic_test.Parch.describe()"
   ]
  },
  {
   "cell_type": "markdown",
   "metadata": {},
   "source": [
    "Quartiles not influenced by the larger range observed within the test set\n",
    "\n",
    "***\n",
    "\n",
    "### Fare"
   ]
  },
  {
   "cell_type": "code",
   "execution_count": null,
   "metadata": {},
   "outputs": [],
   "source": [
    "# Compare the distributions of the Fare feature in the training and test data. Use a visual method.\n",
    "# reset the plot canvas\n",
    "plt.clf()\n",
    "# Compare distributions of Fare\n",
    "plt.hist(titanic_train.Fare, alpha=0.5, label='train')\n",
    "plt.hist(titanic_test.Fare, alpha=0.5, label='test')\n",
    "plt.legend(loc='upper right')"
   ]
  },
  {
   "cell_type": "markdown",
   "metadata": {},
   "source": [
    "Looks to be a few outlier high values in the test set, have they affected the central tendency?"
   ]
  },
  {
   "cell_type": "code",
   "execution_count": null,
   "metadata": {},
   "outputs": [],
   "source": [
    "print(titanic_train.Fare.describe())\n",
    "titanic_test.Fare.describe()"
   ]
  },
  {
   "cell_type": "markdown",
   "metadata": {},
   "source": [
    "The quartiles are almost identical but the mean appears to have been influenced upwards by the high outliers within the test set.\n",
    "\n",
    "***\n",
    "\n",
    "### Embarked\n"
   ]
  },
  {
   "cell_type": "code",
   "execution_count": null,
   "metadata": {},
   "outputs": [],
   "source": [
    "print(titanic_train.Embarked.value_counts(normalize=True))\n",
    "titanic_test.Embarked.value_counts(normalize=True)"
   ]
  },
  {
   "cell_type": "markdown",
   "metadata": {},
   "source": [
    "Rel. proportions of Southampton are 8% lower in test set.\n"
   ]
  }
 ],
 "metadata": {
  "kernelspec": {
   "display_name": "Python 3",
   "language": "python",
   "name": "python3"
  },
  "language_info": {
   "codemirror_mode": {
    "name": "ipython",
    "version": 3
   },
   "file_extension": ".py",
   "mimetype": "text/x-python",
   "name": "python",
   "nbconvert_exporter": "python",
   "pygments_lexer": "ipython3",
   "version": "3.6.1"
  }
 },
 "nbformat": 4,
 "nbformat_minor": 4
}
